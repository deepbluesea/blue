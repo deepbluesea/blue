{
 "metadata": {
  "colabVersion": "0.3.1",
  "default_view": {},
  "name": "",
  "signature": "sha256:4f1cb2395a781e82e4ae6efe05237659037fa6ba237a29f8179dab911c36bd19",
  "views": {}
 },
 "nbformat": 3,
 "nbformat_minor": 0,
 "worksheets": [
  {
   "cells": [
    {
     "cell_type": "markdown",
     "metadata": {
      "colab_type": "text",
      "id": "RMhGdYHuOZM8"
     },
     "source": [
      "# Deep Dreams (with Caffe)\n",
      "\n",
      "This notebook demonstrates how to use the [Caffe](http://caffe.berkeleyvision.org/) neural network framework to produce \"dream\" visuals shown in the [Google Research blog post](http://googleresearch.blogspot.ch/2015/06/inceptionism-going-deeper-into-neural.html).\n",
      "\n",
      "It'll be interesting to see what imagery people are able to generate using the described technique. If you post images to Google+, Facebook, or Twitter, be sure to tag them with **#deepdream** so other researchers can check them out too.\n",
      "\n",
      "##Dependencies\n",
      "This notebook is designed to have as few dependencies as possible:\n",
      "* Standard Python scientific stack: [NumPy](http://www.numpy.org/), [SciPy](http://www.scipy.org/), [PIL](http://www.pythonware.com/products/pil/), [IPython](http://ipython.org/). Those libraries can also be installed as a part of one of the scientific packages for Python, such as [Anaconda](http://continuum.io/downloads) or [Canopy](https://store.enthought.com/).\n",
      "* [Caffe](http://caffe.berkeleyvision.org/) deep learning framework ([installation instructions](http://caffe.berkeleyvision.org/installation.html)).\n",
      "* Google [protobuf](https://developers.google.com/protocol-buffers/) library that is used for Caffe model manipulation."
     ]
    },
    {
     "cell_type": "code",
     "collapsed": false,
     "input": [
      "# imports and basic notebook setup\n",
      "from cStringIO import StringIO\n",
      "import numpy as np\n",
      "import scipy.ndimage as nd\n",
      "import PIL.Image\n",
      "from IPython.display import clear_output, Image, display\n",
      "from google.protobuf import text_format\n",
      "\n",
      "import caffe\n",
      "\n",
      "def showarray(a, fmt='jpeg'):\n",
      "    a = np.uint8(np.clip(a, 0, 255))\n",
      "    f = StringIO()\n",
      "    PIL.Image.fromarray(a).save(f, fmt)\n",
      "    display(Image(data=f.getvalue()))"
     ],
     "language": "python",
     "metadata": {
      "cellView": "both",
      "colab_type": "code",
      "id": "Pqz5k4syOZNA"
     },
     "outputs": [],
     "prompt_number": 1
    },
    {
     "cell_type": "markdown",
     "metadata": {
      "colab_type": "text",
      "id": "AeF9mG-COZNE"
     },
     "source": [
      "## Loading DNN model\n",
      "In this notebook we are going to use a [GoogLeNet](https://github.com/BVLC/caffe/tree/master/models/bvlc_googlenet) model trained on [ImageNet](http://www.image-net.org/) dataset.\n",
      "Feel free to experiment with other models from Caffe [Model Zoo](https://github.com/BVLC/caffe/wiki/Model-Zoo). One particularly interesting [model](http://places.csail.mit.edu/downloadCNN.html) was trained in [MIT Places](http://places.csail.mit.edu/) dataset. It produced many visuals from the [original blog post](http://googleresearch.blogspot.ch/2015/06/inceptionism-going-deeper-into-neural.html)."
     ]
    },
    {
     "cell_type": "code",
     "collapsed": false,
     "input": [
      "model_path = '/caffe-master/models/bvlc_googlenet/' # substitute your path here\n",
      "net_fn   = model_path + 'deploy.prototxt'\n",
      "param_fn = model_path + 'bvlc_googlenet.caffemodel'\n",
      "\n",
      "# Patching model to be able to compute gradients.\n",
      "# Note that you can also manually add \"force_backward: true\" line to \"deploy.prototxt\".\n",
      "model = caffe.io.caffe_pb2.NetParameter()\n",
      "text_format.Merge(open(net_fn).read(), model)\n",
      "model.force_backward = True\n",
      "open('tmp.prototxt', 'w').write(str(model))\n",
      "\n",
      "net = caffe.Classifier('tmp.prototxt', param_fn,\n",
      "                       mean = np.float32([104.0, 116.0, 122.0]), # ImageNet mean, training set dependent\n",
      "                       channel_swap = (2,1,0)) # the reference model has channels in BGR order instead of RGB\n",
      "\n",
      "# a couple of utility functions for converting to and from Caffe's input image layout\n",
      "def preprocess(net, img):\n",
      "    return np.float32(np.rollaxis(img, 2)[::-1]) - net.transformer.mean['data']\n",
      "def deprocess(net, img):\n",
      "    return np.dstack((img + net.transformer.mean['data'])[::-1])"
     ],
     "language": "python",
     "metadata": {
      "cellView": "both",
      "colab_type": "code",
      "id": "i9hkSm1IOZNR"
     },
     "outputs": [],
     "prompt_number": 3
    },
    {
     "cell_type": "heading",
     "level": 2,
     "metadata": {
      "colab_type": "text",
      "id": "UeV_fJ4QOZNb"
     },
     "source": [
      " Producing dreams"
     ]
    },
    {
     "cell_type": "markdown",
     "metadata": {
      "colab_type": "text",
      "id": "9udrp3efOZNd"
     },
     "source": [
      "Making the \"dream\" images is very simple. Essentially it is just a gradient ascent process that tries to maximize the L2 norm of activations of a particular DNN layer. Here are a few simple tricks that we found useful for getting good images:\n",
      "* offset image by a random jitter\n",
      "* normalize the magnitude of gradient ascent steps\n",
      "* apply ascent across multiple scales (octaves)\n",
      "\n",
      "First we implement a basic gradient ascent step function, applying the first two tricks:"
     ]
    },
    {
     "cell_type": "code",
     "collapsed": false,
     "input": [
      "def objective_L2(dst):\n",
      "    dst.diff[:] = dst.data \n",
      "\n",
      "def make_step(net, step_size=1.5, end='inception_4c/output', \n",
      "              jitter=32, clip=True, objective=objective_L2):\n",
      "    '''Basic gradient ascent step.'''\n",
      "\n",
      "    src = net.blobs['data'] # input image is stored in Net's 'data' blob\n",
      "    dst = net.blobs[end]\n",
      "\n",
      "    ox, oy = np.random.randint(-jitter, jitter+1, 2)\n",
      "    src.data[0] = np.roll(np.roll(src.data[0], ox, -1), oy, -2) # apply jitter shift\n",
      "            \n",
      "    net.forward(end=end)\n",
      "    objective(dst)  # specify the optimization objective\n",
      "    net.backward(start=end)\n",
      "    g = src.diff[0]\n",
      "    # apply normalized ascent step to the input image\n",
      "    src.data[:] += step_size/np.abs(g).mean() * g\n",
      "\n",
      "    src.data[0] = np.roll(np.roll(src.data[0], -ox, -1), -oy, -2) # unshift image\n",
      "            \n",
      "    if clip:\n",
      "        bias = net.transformer.mean['data']\n",
      "        src.data[:] = np.clip(src.data, -bias, 255-bias)    "
     ],
     "language": "python",
     "metadata": {
      "cellView": "both",
      "colab_type": "code",
      "id": "pN43nMsHOZNg"
     },
     "outputs": [],
     "prompt_number": 4
    },
    {
     "cell_type": "markdown",
     "metadata": {
      "colab_type": "text",
      "id": "nphEdlBgOZNk"
     },
     "source": [
      "Next we implement an ascent through different scales. We call these scales \"octaves\"."
     ]
    },
    {
     "cell_type": "code",
     "collapsed": false,
     "input": [
      "def deepdream(net, base_img, iter_n=10, octave_n=4, octave_scale=1.4, \n",
      "              end='inception_4c/output', clip=True, **step_params):\n",
      "    # prepare base images for all octaves\n",
      "    octaves = [preprocess(net, base_img)]\n",
      "    for i in xrange(octave_n-1):\n",
      "        octaves.append(nd.zoom(octaves[-1], (1, 1.0/octave_scale,1.0/octave_scale), order=1))\n",
      "    \n",
      "    src = net.blobs['data']\n",
      "    detail = np.zeros_like(octaves[-1]) # allocate image for network-produced details\n",
      "    for octave, octave_base in enumerate(octaves[::-1]):\n",
      "        h, w = octave_base.shape[-2:]\n",
      "        if octave > 0:\n",
      "            # upscale details from the previous octave\n",
      "            h1, w1 = detail.shape[-2:]\n",
      "            detail = nd.zoom(detail, (1, 1.0*h/h1,1.0*w/w1), order=1)\n",
      "\n",
      "        src.reshape(1,3,h,w) # resize the network's input image size\n",
      "        src.data[0] = octave_base+detail\n",
      "        for i in xrange(iter_n):\n",
      "            make_step(net, end=end, clip=clip, **step_params)\n",
      "            \n",
      "            # visualization\n",
      "            vis = deprocess(net, src.data[0])\n",
      "            if not clip: # adjust image contrast if clipping is disabled\n",
      "                vis = vis*(255.0/np.percentile(vis, 99.98))\n",
      "            showarray(vis)\n",
      "            print octave, i, end, vis.shape\n",
      "            clear_output(wait=True)\n",
      "            \n",
      "        # extract details produced on the current octave\n",
      "        detail = src.data[0]-octave_base\n",
      "    # returning the resulting image\n",
      "    return deprocess(net, src.data[0])"
     ],
     "language": "python",
     "metadata": {
      "cellView": "both",
      "colab_type": "code",
      "id": "ZpFIn8l0OZNq"
     },
     "outputs": [],
     "prompt_number": 5
    },
    {
     "cell_type": "code",
     "collapsed": false,
     "input": [
      "import urllib\n",
      "urllib.urlretrieve (\"http://i.imgur.com/grpKR7Tl.jpg\", \"c.jpg\")"
     ],
     "language": "python",
     "metadata": {},
     "outputs": [
      {
       "metadata": {},
       "output_type": "pyout",
       "prompt_number": 6,
       "text": [
        "('c.jpg', <httplib.HTTPMessage instance at 0x7f85131983b0>)"
       ]
      }
     ],
     "prompt_number": 6
    },
    {
     "cell_type": "code",
     "collapsed": false,
     "input": [
      "img = np.float32(PIL.Image.open('c.jpg'))\n",
      "showarray(img)"
     ],
     "language": "python",
     "metadata": {
      "cellView": "both",
      "colab_type": "code",
      "executionInfo": null,
      "id": "40p5AqqwOZN5",
      "outputId": "f62cde37-79e8-420a-e448-3b9b48ee1730",
      "pinned": false
     },
     "outputs": [
      {
       "jpeg": "[encoded data removed]",
       "metadata": {},
       "output_type": "display_data",
       "text": [
        "<IPython.core.display.Image at 0x7f8513005910>"
       ]
      }
     ],
     "prompt_number": 8
    },
    {
     "cell_type": "code",
     "collapsed": false,
     "input": [
      "import urllib\n",
      "urllib.urlretrieve (\"http://i.imgur.com/cWCw1q2m.jpg\", \"flowers.jpg\")"
     ],
     "language": "python",
     "metadata": {},
     "outputs": [
      {
       "metadata": {},
       "output_type": "pyout",
       "prompt_number": 10,
       "text": [
        "('flowers.jpg', <httplib.HTTPMessage instance at 0x7f8513023170>)"
       ]
      }
     ],
     "prompt_number": 10
    },
    {
     "cell_type": "markdown",
     "metadata": {
      "colab_type": "text",
      "id": "Z9_215_GOZOL"
     },
     "source": [
      "Running the next code cell starts the detail generation process. You may see how new patterns start to form, iteration by iteration, octave by octave."
     ]
    },
    {
     "cell_type": "code",
     "collapsed": false,
     "input": [
      "guide = np.float32(PIL.Image.open('flowers.jpg'))\n",
      "showarray(guide)"
     ],
     "language": "python",
     "metadata": {},
     "outputs": [
      {
       "jpeg": "[encoded data removed]",
       "metadata": {},
       "output_type": "display_data",
       "text": [
        "<IPython.core.display.Image at 0x7f851301ccd0>"
       ]
      }
     ],
     "prompt_number": 11
    },
    {
     "cell_type": "markdown",
     "metadata": {},
     "source": [
      "Note that the neural network we use was trained on images downscaled to 224x224 size. So high resolution images might have to be downscaled, so that the network could pick up their features. The image we use here is already small enough.\n",
      "\n",
      "Now we pick some target layer and extract guide image features."
     ]
    },
    {
     "cell_type": "code",
     "collapsed": false,
     "input": [
      "end = 'inception_3b/output'\n",
      "h, w = guide.shape[:2]\n",
      "src, dst = net.blobs['data'], net.blobs[end]\n",
      "src.reshape(1,3,h,w)\n",
      "src.data[0] = preprocess(net, guide)\n",
      "net.forward(end=end)\n",
      "guide_features = dst.data[0].copy()"
     ],
     "language": "python",
     "metadata": {},
     "outputs": [],
     "prompt_number": 12
    },
    {
     "cell_type": "markdown",
     "metadata": {},
     "source": [
      "Instead of maximizing the L2-norm of current image activations, we try to maximize the dot-products between activations of current image, and their best matching correspondences from the guide image."
     ]
    },
    {
     "cell_type": "code",
     "collapsed": false,
     "input": [
      "def objective_guide(dst):\n",
      "    x = dst.data[0].copy()\n",
      "    y = guide_features\n",
      "    ch = x.shape[0]\n",
      "    x = x.reshape(ch,-1)\n",
      "    y = y.reshape(ch,-1)\n",
      "    A = x.T.dot(y) # compute the matrix of dot-products with guide features\n",
      "    dst.diff[0].reshape(ch,-1)[:] = y[:,A.argmax(1)] # select ones that match best\n",
      "\n",
      "_=deepdream(net, img, end=end, objective=objective_guide)"
     ],
     "language": "python",
     "metadata": {},
     "outputs": [
      {
       "ename": "KeyboardInterrupt",
       "evalue": "",
       "output_type": "pyerr",
       "traceback": [
        "\u001b[1;31m---------------------------------------------------------------------------\u001b[0m\n\u001b[1;31mKeyboardInterrupt\u001b[0m                         Traceback (most recent call last)",
        "\u001b[1;32m<ipython-input-13-20c036a5caae>\u001b[0m in \u001b[0;36m<module>\u001b[1;34m()\u001b[0m\n\u001b[0;32m      8\u001b[0m     \u001b[0mdst\u001b[0m\u001b[1;33m.\u001b[0m\u001b[0mdiff\u001b[0m\u001b[1;33m[\u001b[0m\u001b[1;36m0\u001b[0m\u001b[1;33m]\u001b[0m\u001b[1;33m.\u001b[0m\u001b[0mreshape\u001b[0m\u001b[1;33m(\u001b[0m\u001b[0mch\u001b[0m\u001b[1;33m,\u001b[0m\u001b[1;33m-\u001b[0m\u001b[1;36m1\u001b[0m\u001b[1;33m)\u001b[0m\u001b[1;33m[\u001b[0m\u001b[1;33m:\u001b[0m\u001b[1;33m]\u001b[0m \u001b[1;33m=\u001b[0m \u001b[0my\u001b[0m\u001b[1;33m[\u001b[0m\u001b[1;33m:\u001b[0m\u001b[1;33m,\u001b[0m\u001b[0mA\u001b[0m\u001b[1;33m.\u001b[0m\u001b[0margmax\u001b[0m\u001b[1;33m(\u001b[0m\u001b[1;36m1\u001b[0m\u001b[1;33m)\u001b[0m\u001b[1;33m]\u001b[0m \u001b[1;31m# select ones that match best\u001b[0m\u001b[1;33m\u001b[0m\u001b[0m\n\u001b[0;32m      9\u001b[0m \u001b[1;33m\u001b[0m\u001b[0m\n\u001b[1;32m---> 10\u001b[1;33m \u001b[0m_\u001b[0m\u001b[1;33m=\u001b[0m\u001b[0mdeepdream\u001b[0m\u001b[1;33m(\u001b[0m\u001b[0mnet\u001b[0m\u001b[1;33m,\u001b[0m \u001b[0mimg\u001b[0m\u001b[1;33m,\u001b[0m \u001b[0mend\u001b[0m\u001b[1;33m=\u001b[0m\u001b[0mend\u001b[0m\u001b[1;33m,\u001b[0m \u001b[0mobjective\u001b[0m\u001b[1;33m=\u001b[0m\u001b[0mobjective_guide\u001b[0m\u001b[1;33m)\u001b[0m\u001b[1;33m\u001b[0m\u001b[0m\n\u001b[0m",
        "\u001b[1;32m<ipython-input-5-d59dbacb351e>\u001b[0m in \u001b[0;36mdeepdream\u001b[1;34m(net, base_img, iter_n, octave_n, octave_scale, end, clip, **step_params)\u001b[0m\n\u001b[0;32m     18\u001b[0m         \u001b[0msrc\u001b[0m\u001b[1;33m.\u001b[0m\u001b[0mdata\u001b[0m\u001b[1;33m[\u001b[0m\u001b[1;36m0\u001b[0m\u001b[1;33m]\u001b[0m \u001b[1;33m=\u001b[0m \u001b[0moctave_base\u001b[0m\u001b[1;33m+\u001b[0m\u001b[0mdetail\u001b[0m\u001b[1;33m\u001b[0m\u001b[0m\n\u001b[0;32m     19\u001b[0m         \u001b[1;32mfor\u001b[0m \u001b[0mi\u001b[0m \u001b[1;32min\u001b[0m \u001b[0mxrange\u001b[0m\u001b[1;33m(\u001b[0m\u001b[0miter_n\u001b[0m\u001b[1;33m)\u001b[0m\u001b[1;33m:\u001b[0m\u001b[1;33m\u001b[0m\u001b[0m\n\u001b[1;32m---> 20\u001b[1;33m             \u001b[0mmake_step\u001b[0m\u001b[1;33m(\u001b[0m\u001b[0mnet\u001b[0m\u001b[1;33m,\u001b[0m \u001b[0mend\u001b[0m\u001b[1;33m=\u001b[0m\u001b[0mend\u001b[0m\u001b[1;33m,\u001b[0m \u001b[0mclip\u001b[0m\u001b[1;33m=\u001b[0m\u001b[0mclip\u001b[0m\u001b[1;33m,\u001b[0m \u001b[1;33m**\u001b[0m\u001b[0mstep_params\u001b[0m\u001b[1;33m)\u001b[0m\u001b[1;33m\u001b[0m\u001b[0m\n\u001b[0m\u001b[0;32m     21\u001b[0m \u001b[1;33m\u001b[0m\u001b[0m\n\u001b[0;32m     22\u001b[0m             \u001b[1;31m# visualization\u001b[0m\u001b[1;33m\u001b[0m\u001b[1;33m\u001b[0m\u001b[0m\n",
        "\u001b[1;32m<ipython-input-4-32dcbd63408b>\u001b[0m in \u001b[0;36mmake_step\u001b[1;34m(net, step_size, end, jitter, clip, objective)\u001b[0m\n\u001b[0;32m     14\u001b[0m     \u001b[0mnet\u001b[0m\u001b[1;33m.\u001b[0m\u001b[0mforward\u001b[0m\u001b[1;33m(\u001b[0m\u001b[0mend\u001b[0m\u001b[1;33m=\u001b[0m\u001b[0mend\u001b[0m\u001b[1;33m)\u001b[0m\u001b[1;33m\u001b[0m\u001b[0m\n\u001b[0;32m     15\u001b[0m     \u001b[0mobjective\u001b[0m\u001b[1;33m(\u001b[0m\u001b[0mdst\u001b[0m\u001b[1;33m)\u001b[0m  \u001b[1;31m# specify the optimization objective\u001b[0m\u001b[1;33m\u001b[0m\u001b[0m\n\u001b[1;32m---> 16\u001b[1;33m     \u001b[0mnet\u001b[0m\u001b[1;33m.\u001b[0m\u001b[0mbackward\u001b[0m\u001b[1;33m(\u001b[0m\u001b[0mstart\u001b[0m\u001b[1;33m=\u001b[0m\u001b[0mend\u001b[0m\u001b[1;33m)\u001b[0m\u001b[1;33m\u001b[0m\u001b[0m\n\u001b[0m\u001b[0;32m     17\u001b[0m     \u001b[0mg\u001b[0m \u001b[1;33m=\u001b[0m \u001b[0msrc\u001b[0m\u001b[1;33m.\u001b[0m\u001b[0mdiff\u001b[0m\u001b[1;33m[\u001b[0m\u001b[1;36m0\u001b[0m\u001b[1;33m]\u001b[0m\u001b[1;33m\u001b[0m\u001b[0m\n\u001b[0;32m     18\u001b[0m     \u001b[1;31m# apply normalized ascent step to the input image\u001b[0m\u001b[1;33m\u001b[0m\u001b[1;33m\u001b[0m\u001b[0m\n",
        "\u001b[1;32m/caffe-master/distribute/python/caffe/pycaffe.py\u001b[0m in \u001b[0;36m_Net_backward\u001b[1;34m(self, diffs, start, end, **kwargs)\u001b[0m\n\u001b[0;32m    143\u001b[0m             \u001b[0mself\u001b[0m\u001b[1;33m.\u001b[0m\u001b[0mblobs\u001b[0m\u001b[1;33m[\u001b[0m\u001b[0mtop\u001b[0m\u001b[1;33m]\u001b[0m\u001b[1;33m.\u001b[0m\u001b[0mdiff\u001b[0m\u001b[1;33m[\u001b[0m\u001b[1;33m.\u001b[0m\u001b[1;33m.\u001b[0m\u001b[1;33m.\u001b[0m\u001b[1;33m]\u001b[0m \u001b[1;33m=\u001b[0m \u001b[0mdiff\u001b[0m\u001b[1;33m\u001b[0m\u001b[0m\n\u001b[0;32m    144\u001b[0m \u001b[1;33m\u001b[0m\u001b[0m\n\u001b[1;32m--> 145\u001b[1;33m     \u001b[0mself\u001b[0m\u001b[1;33m.\u001b[0m\u001b[0m_backward\u001b[0m\u001b[1;33m(\u001b[0m\u001b[0mstart_ind\u001b[0m\u001b[1;33m,\u001b[0m \u001b[0mend_ind\u001b[0m\u001b[1;33m)\u001b[0m\u001b[1;33m\u001b[0m\u001b[0m\n\u001b[0m\u001b[0;32m    146\u001b[0m \u001b[1;33m\u001b[0m\u001b[0m\n\u001b[0;32m    147\u001b[0m     \u001b[1;31m# Unpack diffs to extract\u001b[0m\u001b[1;33m\u001b[0m\u001b[1;33m\u001b[0m\u001b[0m\n",
        "\u001b[1;31mKeyboardInterrupt\u001b[0m: "
       ]
      }
     ],
     "prompt_number": 13
    },
    {
     "cell_type": "markdown",
     "metadata": {},
     "source": [
      "This way we can affect the style of generated images without using a different training set."
     ]
    },
    {
     "cell_type": "code",
     "collapsed": false,
     "input": [
      "net.blobs.keys()"
     ],
     "language": "python",
     "metadata": {
      "cellView": "both",
      "colab_type": "code",
      "id": "OIepVN6POZOc"
     },
     "outputs": [
      {
       "metadata": {},
       "output_type": "pyout",
       "prompt_number": 9,
       "text": [
        "['data',\n",
        " 'conv1/7x7_s2',\n",
        " 'pool1/3x3_s2',\n",
        " 'pool1/norm1',\n",
        " 'conv2/3x3_reduce',\n",
        " 'conv2/3x3',\n",
        " 'conv2/norm2',\n",
        " 'pool2/3x3_s2',\n",
        " 'pool2/3x3_s2_pool2/3x3_s2_0_split_0',\n",
        " 'pool2/3x3_s2_pool2/3x3_s2_0_split_1',\n",
        " 'pool2/3x3_s2_pool2/3x3_s2_0_split_2',\n",
        " 'pool2/3x3_s2_pool2/3x3_s2_0_split_3',\n",
        " 'inception_3a/1x1',\n",
        " 'inception_3a/3x3_reduce',\n",
        " 'inception_3a/3x3',\n",
        " 'inception_3a/5x5_reduce',\n",
        " 'inception_3a/5x5',\n",
        " 'inception_3a/pool',\n",
        " 'inception_3a/pool_proj',\n",
        " 'inception_3a/output',\n",
        " 'inception_3a/output_inception_3a/output_0_split_0',\n",
        " 'inception_3a/output_inception_3a/output_0_split_1',\n",
        " 'inception_3a/output_inception_3a/output_0_split_2',\n",
        " 'inception_3a/output_inception_3a/output_0_split_3',\n",
        " 'inception_3b/1x1',\n",
        " 'inception_3b/3x3_reduce',\n",
        " 'inception_3b/3x3',\n",
        " 'inception_3b/5x5_reduce',\n",
        " 'inception_3b/5x5',\n",
        " 'inception_3b/pool',\n",
        " 'inception_3b/pool_proj',\n",
        " 'inception_3b/output',\n",
        " 'pool3/3x3_s2',\n",
        " 'pool3/3x3_s2_pool3/3x3_s2_0_split_0',\n",
        " 'pool3/3x3_s2_pool3/3x3_s2_0_split_1',\n",
        " 'pool3/3x3_s2_pool3/3x3_s2_0_split_2',\n",
        " 'pool3/3x3_s2_pool3/3x3_s2_0_split_3',\n",
        " 'inception_4a/1x1',\n",
        " 'inception_4a/3x3_reduce',\n",
        " 'inception_4a/3x3',\n",
        " 'inception_4a/5x5_reduce',\n",
        " 'inception_4a/5x5',\n",
        " 'inception_4a/pool',\n",
        " 'inception_4a/pool_proj',\n",
        " 'inception_4a/output',\n",
        " 'inception_4a/output_inception_4a/output_0_split_0',\n",
        " 'inception_4a/output_inception_4a/output_0_split_1',\n",
        " 'inception_4a/output_inception_4a/output_0_split_2',\n",
        " 'inception_4a/output_inception_4a/output_0_split_3',\n",
        " 'inception_4b/1x1',\n",
        " 'inception_4b/3x3_reduce',\n",
        " 'inception_4b/3x3',\n",
        " 'inception_4b/5x5_reduce',\n",
        " 'inception_4b/5x5',\n",
        " 'inception_4b/pool',\n",
        " 'inception_4b/pool_proj',\n",
        " 'inception_4b/output',\n",
        " 'inception_4b/output_inception_4b/output_0_split_0',\n",
        " 'inception_4b/output_inception_4b/output_0_split_1',\n",
        " 'inception_4b/output_inception_4b/output_0_split_2',\n",
        " 'inception_4b/output_inception_4b/output_0_split_3',\n",
        " 'inception_4c/1x1',\n",
        " 'inception_4c/3x3_reduce',\n",
        " 'inception_4c/3x3',\n",
        " 'inception_4c/5x5_reduce',\n",
        " 'inception_4c/5x5',\n",
        " 'inception_4c/pool',\n",
        " 'inception_4c/pool_proj',\n",
        " 'inception_4c/output',\n",
        " 'inception_4c/output_inception_4c/output_0_split_0',\n",
        " 'inception_4c/output_inception_4c/output_0_split_1',\n",
        " 'inception_4c/output_inception_4c/output_0_split_2',\n",
        " 'inception_4c/output_inception_4c/output_0_split_3',\n",
        " 'inception_4d/1x1',\n",
        " 'inception_4d/3x3_reduce',\n",
        " 'inception_4d/3x3',\n",
        " 'inception_4d/5x5_reduce',\n",
        " 'inception_4d/5x5',\n",
        " 'inception_4d/pool',\n",
        " 'inception_4d/pool_proj',\n",
        " 'inception_4d/output',\n",
        " 'inception_4d/output_inception_4d/output_0_split_0',\n",
        " 'inception_4d/output_inception_4d/output_0_split_1',\n",
        " 'inception_4d/output_inception_4d/output_0_split_2',\n",
        " 'inception_4d/output_inception_4d/output_0_split_3',\n",
        " 'inception_4e/1x1',\n",
        " 'inception_4e/3x3_reduce',\n",
        " 'inception_4e/3x3',\n",
        " 'inception_4e/5x5_reduce',\n",
        " 'inception_4e/5x5',\n",
        " 'inception_4e/pool',\n",
        " 'inception_4e/pool_proj',\n",
        " 'inception_4e/output',\n",
        " 'pool4/3x3_s2',\n",
        " 'pool4/3x3_s2_pool4/3x3_s2_0_split_0',\n",
        " 'pool4/3x3_s2_pool4/3x3_s2_0_split_1',\n",
        " 'pool4/3x3_s2_pool4/3x3_s2_0_split_2',\n",
        " 'pool4/3x3_s2_pool4/3x3_s2_0_split_3',\n",
        " 'inception_5a/1x1',\n",
        " 'inception_5a/3x3_reduce',\n",
        " 'inception_5a/3x3',\n",
        " 'inception_5a/5x5_reduce',\n",
        " 'inception_5a/5x5',\n",
        " 'inception_5a/pool',\n",
        " 'inception_5a/pool_proj',\n",
        " 'inception_5a/output',\n",
        " 'inception_5a/output_inception_5a/output_0_split_0',\n",
        " 'inception_5a/output_inception_5a/output_0_split_1',\n",
        " 'inception_5a/output_inception_5a/output_0_split_2',\n",
        " 'inception_5a/output_inception_5a/output_0_split_3',\n",
        " 'inception_5b/1x1',\n",
        " 'inception_5b/3x3_reduce',\n",
        " 'inception_5b/3x3',\n",
        " 'inception_5b/5x5_reduce',\n",
        " 'inception_5b/5x5',\n",
        " 'inception_5b/pool',\n",
        " 'inception_5b/pool_proj',\n",
        " 'inception_5b/output',\n",
        " 'pool5/7x7_s1',\n",
        " 'loss3/classifier',\n",
        " 'prob']"
       ]
      }
     ],
     "prompt_number": 9
    }
   ],
   "metadata": {}
  }
 ]
}
